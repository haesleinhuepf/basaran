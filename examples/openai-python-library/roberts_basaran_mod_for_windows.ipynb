{
 "cells": [
  {
   "cell_type": "markdown",
   "id": "c9ed4cfd-e2d8-4884-9e50-cc28e9d30db9",
   "metadata": {},
   "source": [
    "# Setting up a local LLM server\n",
    "In this notebook, we will use [basaran](https://github.com/hyperonym/basaran) as a local LLM server and access it through the OpenAI API."
   ]
  },
  {
   "cell_type": "markdown",
   "id": "bcf2fd8f-51f5-4df9-b568-df8548087c8a",
   "metadata": {},
   "source": [
    "## Code download and installation\n",
    "Clone the `windows_modern_openai` branch from https://github.com/haesleinhuepf/basaran . Navigate to the folder and run `pip install -e .` from there.\n",
    "Also execute `pip install openai==1.5.0`."
   ]
  },
  {
   "cell_type": "markdown",
   "id": "beea7952-ece1-4334-9714-782557bc7afb",
   "metadata": {},
   "source": [
    "## Starting the server\n",
    "Run this from the Windows CMD terminal (in a separate window):\n",
    "\n",
    "```\n",
    "SET MODEL=TinyLlama/TinyLlama-1.1B-Chat-v1.0&& SET PORT=80 && python -m basaran\n",
    "```\n",
    "\n",
    "When executing this for the first time, the [TinyLlama](https://huggingface.co/TinyLlama/TinyLlama-1.1B-Chat-v1.0) model will be downloaded from the Huggingface hub and stored in a cache. When executing it the second time, the cached model will be used. When ready, the server should say something like \n",
    "```\n",
    "start listening on 127.0.0.1:80\n",
    "```"
   ]
  },
  {
   "cell_type": "markdown",
   "id": "efdc2e69-0d05-4429-9352-2efbd28b30b4",
   "metadata": {},
   "source": [
    "## Testing the server\n",
    "You can test the server using curl."
   ]
  },
  {
   "cell_type": "code",
   "execution_count": 1,
   "id": "c948aad8-29e0-49b8-a095-a271552d4fbd",
   "metadata": {},
   "outputs": [
    {
     "name": "stdout",
     "output_type": "stream",
     "text": [
      "{\"id\":\"cmpl-bef9f82d195629ca0f7209b8\",\"object\":\"text_completion\",\"created\":1705829561,\"model\":\"TinyLlama/TinyLlama-1.1B-Chat-v1.0\",\"choices\":[{\"text\":\"arches in the glitter ball night in. Can you outline the steps for\",\"index\":0,\"logprobs\":null,\"finish_reason\":\"length\"}],\"usage\":{\"prompt_tokens\":1,\"completion_tokens\":16,\"total_tokens\":17}}\n"
     ]
    }
   ],
   "source": [
    "!curl http://127.0.0.1/v1/completions \\\n",
    "    -H 'Content-Type: application/json' \\\n",
    "    -d '{ \"prompt\": \"once upon a time,\", \"echo\": true }' -s"
   ]
  },
  {
   "cell_type": "markdown",
   "id": "7e093a8c-c8d1-4d88-aec1-7f1bc0002e23",
   "metadata": {},
   "source": [
    "## Accessing the LLM using openai's API\n",
    "Next, we will use the openai python API to access our local LLM server."
   ]
  },
  {
   "cell_type": "code",
   "execution_count": 2,
   "id": "8b29c237-e5dc-4790-b66a-22dc87bc0143",
   "metadata": {},
   "outputs": [
    {
     "data": {
      "text/plain": [
       "'1.5.0'"
      ]
     },
     "execution_count": 2,
     "metadata": {},
     "output_type": "execute_result"
    }
   ],
   "source": [
    "import openai\n",
    "openai.__version__"
   ]
  },
  {
   "cell_type": "markdown",
   "id": "ba11cca4-4175-4eca-845c-2bdc6570d4b1",
   "metadata": {},
   "source": [
    "We define a little helper function to access the model."
   ]
  },
  {
   "cell_type": "code",
   "execution_count": 3,
   "id": "c594fd3d-1e32-4b50-b49b-fc2bdc34eff6",
   "metadata": {},
   "outputs": [],
   "source": [
    "def ask(prompt, max_tokens=20, base_url='http://127.0.0.1/v1'):\n",
    "    client = openai.OpenAI()\n",
    "    client.base_url = base_url\n",
    "\n",
    "    response = client.completions.create(\n",
    "        model=\"xyz\",\n",
    "        prompt=prompt,\n",
    "        max_tokens=max_tokens\n",
    "    )\n",
    "    return response.choices[0].text"
   ]
  },
  {
   "cell_type": "markdown",
   "id": "18779a22-b59c-4e40-8c2a-5b4a282601ca",
   "metadata": {},
   "source": [
    "### Story writing\n",
    "We test if the model can complete a story."
   ]
  },
  {
   "cell_type": "code",
   "execution_count": 4,
   "id": "5b989e8d-a5af-40fe-a698-8c064613e693",
   "metadata": {},
   "outputs": [
    {
     "name": "stdout",
     "output_type": "stream",
     "text": [
      " retrieve an ancient magic object that belonged to a daunting guardian of the forest.\n",
      "The\n"
     ]
    }
   ],
   "source": [
    "print(ask(\"Max and Moritz go in the forest to\"))"
   ]
  },
  {
   "cell_type": "markdown",
   "id": "cb716f57-c1dd-49d4-a3c1-20181f8c673d",
   "metadata": {},
   "source": [
    "### Code generation\n",
    "We test if the model can produce code."
   ]
  },
  {
   "cell_type": "code",
   "execution_count": 5,
   "id": "fbb2fe47-086b-40e8-ad33-3f5710570b97",
   "metadata": {},
   "outputs": [
    {
     "name": "stdout",
     "output_type": "stream",
     "text": [
      "\n",
      "    print(\"Hello, world!\")\n",
      "\n",
      "if __name__ == \"__main__\n"
     ]
    }
   ],
   "source": [
    "print(ask(\"def print_hello_world():\"))"
   ]
  },
  {
   "cell_type": "markdown",
   "id": "9b84946d-985b-4c19-913b-1b407e93f607",
   "metadata": {},
   "source": [
    "### Knowledge retrieval\n",
    "We test if the model knows about computer science,"
   ]
  },
  {
   "cell_type": "code",
   "execution_count": 6,
   "id": "e1a816ac-6985-40a9-91f2-0c7392f7705e",
   "metadata": {},
   "outputs": [
    {
     "name": "stdout",
     "output_type": "stream",
     "text": [
      " it can simulate human intelligence, with all of the identified cognitive processes, such as problem-sol\n"
     ]
    }
   ],
   "source": [
    "print(ask(\"A software system passes the Turing test if\"))"
   ]
  },
  {
   "cell_type": "markdown",
   "id": "8e9f9d0d-7124-4216-9fe4-0f840cdd5647",
   "metadata": {},
   "source": [
    "biology,"
   ]
  },
  {
   "cell_type": "code",
   "execution_count": 7,
   "id": "1b535c20-7501-48aa-a588-17cfa2b0edae",
   "metadata": {},
   "outputs": [
    {
     "name": "stdout",
     "output_type": "stream",
     "text": [
      " their: Physical structure. Fascism—ana inversa). Discuss the fashionable\n"
     ]
    }
   ],
   "source": [
    "print(ask(\"Animals and mushrooms are differentiated by\"))"
   ]
  },
  {
   "cell_type": "markdown",
   "id": "a42d33a2-e867-480b-95d4-16801334bce9",
   "metadata": {},
   "source": [
    "physics,"
   ]
  },
  {
   "cell_type": "code",
   "execution_count": 8,
   "id": "7c68b2da-7f73-43c8-967f-04067f15dc66",
   "metadata": {},
   "outputs": [
    {
     "name": "stdout",
     "output_type": "stream",
     "text": [
      "\n",
      "Distance/Time\n",
      "Distance/(Time)\n"
     ]
    }
   ],
   "source": [
    "print(ask(\"Distance divided by time is \"))"
   ]
  },
  {
   "cell_type": "markdown",
   "id": "d7984670-c71a-4199-a7f2-b5fb5022b6fa",
   "metadata": {},
   "source": [
    "cooking/baking, "
   ]
  },
  {
   "cell_type": "code",
   "execution_count": 9,
   "id": "712ed807-36c1-4c61-8f6b-4ba059d3d944",
   "metadata": {},
   "outputs": [
    {
     "name": "stdout",
     "output_type": "stream",
     "text": [
      "2 and 1/2 cups warm water or milk. You can also add more bread fl\n"
     ]
    }
   ],
   "source": [
    "print(ask(\"To make bread, you need flour, salt and \"))"
   ]
  },
  {
   "cell_type": "markdown",
   "id": "5aba185f-2a9c-4230-96d5-4e2d0e759649",
   "metadata": {},
   "source": [
    "geometry,"
   ]
  },
  {
   "cell_type": "code",
   "execution_count": 10,
   "id": "32a3c2ad-7ecd-4262-a9e9-da09055234b3",
   "metadata": {},
   "outputs": [
    {
     "name": "stdout",
     "output_type": "stream",
     "text": [
      " the straight line distance between two given points in a vector space.\n"
     ]
    }
   ],
   "source": [
    "print(ask(\"The Euclidean distance is defined as\"))"
   ]
  },
  {
   "cell_type": "markdown",
   "id": "32963b10-f283-4930-92e6-3e7c2ec39c2d",
   "metadata": {},
   "source": [
    "geopolitics,"
   ]
  },
  {
   "cell_type": "code",
   "execution_count": 11,
   "id": "781c4736-8a72-4b58-847e-785d2f73c23d",
   "metadata": {},
   "outputs": [
    {
     "name": "stdout",
     "output_type": "stream",
     "text": [
      " estimated to be 50. A country without a single-state? How is technology driving the\n"
     ]
    }
   ],
   "source": [
    "print(ask(\"The number of states in the US is\"))"
   ]
  },
  {
   "cell_type": "markdown",
   "id": "926459fc-238d-4072-9554-4a5c677d2577",
   "metadata": {},
   "source": [
    "... and jokes"
   ]
  },
  {
   "cell_type": "code",
   "execution_count": null,
   "id": "7559502c-6d15-4a7f-b33b-1c28d96b8aa3",
   "metadata": {},
   "outputs": [],
   "source": [
    "print(ask(\"A really funny joke is this one:\", max_tokens=200))"
   ]
  },
  {
   "cell_type": "markdown",
   "id": "7b49099e-7d3f-4b06-9f37-1817054d02af",
   "metadata": {},
   "source": [
    "### Math\n",
    "We test if the model can do math"
   ]
  },
  {
   "cell_type": "code",
   "execution_count": null,
   "id": "b1d60047-751d-41c2-9cf6-50bb8117734d",
   "metadata": {},
   "outputs": [],
   "source": [
    "print(ask(\"1 + 2 / 2 =\"))"
   ]
  },
  {
   "cell_type": "code",
   "execution_count": null,
   "id": "6aedeb15-a589-42f0-9c97-9e6c100cc2d9",
   "metadata": {},
   "outputs": [],
   "source": []
  }
 ],
 "metadata": {
  "kernelspec": {
   "display_name": "Python 3 (ipykernel)",
   "language": "python",
   "name": "python3"
  },
  "language_info": {
   "codemirror_mode": {
    "name": "ipython",
    "version": 3
   },
   "file_extension": ".py",
   "mimetype": "text/x-python",
   "name": "python",
   "nbconvert_exporter": "python",
   "pygments_lexer": "ipython3",
   "version": "3.10.13"
  }
 },
 "nbformat": 4,
 "nbformat_minor": 5
}
